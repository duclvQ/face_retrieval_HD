{
 "cells": [
  {
   "cell_type": "code",
   "execution_count": 3,
   "metadata": {},
   "outputs": [
    {
     "name": "stdout",
     "output_type": "stream",
     "text": [
      "Number of records in the collection: 605949\n"
     ]
    }
   ],
   "source": [
    "from pymongo import MongoClient\n",
    "\n",
    "client = MongoClient('mongodb://localhost:27017/')\n",
    "collection_all_faces = client[\"faceDB\"][\"allFaceRecords\"]\n",
    "\n",
    "# Count documents in the collection\n",
    "count = collection_all_faces.count_documents({})\n",
    "print(\"Number of records in the collection: %d\" % count)"
   ]
  },
  {
   "cell_type": "code",
   "execution_count": 10,
   "metadata": {},
   "outputs": [
    {
     "name": "stdout",
     "output_type": "stream",
     "text": [
      "606882\n"
     ]
    }
   ],
   "source": [
    "import os\n",
    "import glob\n",
    "\n",
    "def delete_images(folder):\n",
    "    # Get all image files in the folder and its subfolders\n",
    "    image_files = glob.glob(os.path.join(folder, '**', '*.*'), recursive=True)\n",
    "    print(len(image_files))\n",
    "    \n",
    "    for image_file in image_files:\n",
    "        # Get the filename without extension\n",
    "        if not image_file.endswith('.jpg'):continue\n",
    "        filename = os.path.basename(image_file)\n",
    "        \n",
    "        filename = (filename.split('_')[0])\n",
    "        \n",
    "        # Check if the filename is a number and not divisible by 30\n",
    "        if filename.isdigit() and int(filename) % 30 != 0:\n",
    "            try:\n",
    "                os.remove(image_file)\n",
    "                print(\"Deleted %s\" % image_file)\n",
    "            except FileNotFoundError:\n",
    "                print(\"File not found: %s\" % image_file)\n",
    "\n",
    "# Use the function\n",
    "delete_images('/home/dev/face_retrieval/cropped_faces')"
   ]
  },
  {
   "cell_type": "code",
   "execution_count": null,
   "metadata": {},
   "outputs": [],
   "source": []
  },
  {
   "cell_type": "code",
   "execution_count": null,
   "metadata": {},
   "outputs": [],
   "source": [
    "from face_encoder_from_video_path import ProcessVideo\n",
    "from pytube import YouTube\n",
    "from pytube.exceptions import AgeRestrictedError\n",
    "import pandas as pd\n",
    "from pytube import YouTube\n",
    "import unicodedata\n",
    "import os\n",
    "import gc\n",
    "import time\n",
    "from pymongo import MongoClient\n",
    "from memory_profiler import profile\n",
    "class bcolors:\n",
    "    HEADER = '\\033[95m'\n",
    "    OKBLUE = '\\033[94m'\n",
    "    OKCYAN = '\\033[96m'\n",
    "    OKGREEN = '\\033[92m'\n",
    "    WARNING = '\\033[93m'\n",
    "    FAIL = '\\033[91m'\n",
    "    ENDC = '\\033[0m'\n",
    "    BOLD = '\\033[1m'\n",
    "    UNDERLINE = '\\033[4m'\n",
    "    \n",
    "from pytube.exceptions import AgeRestrictedError\n",
    "from http.client import IncompleteRead\n",
    "from pytube.exceptions import VideoUnavailable"
   ]
  },
  {
   "cell_type": "code",
   "execution_count": null,
   "metadata": {},
   "outputs": [],
   "source": [
    "def download_video_from_youtube(link, path, retries=3):\n",
    "    for _ in range(retries):\n",
    "        try:\n",
    "            yt = YouTube(link)\n",
    "            video = yt.streams.get_highest_resolution()\n",
    "            # save the name of the video as unicode and unsigned\n",
    "            video_name = unicodedata.normalize('NFKD', video.title).encode('ascii', 'ignore').decode('utf-8')\n",
    "            video_name = video_name.replace(' ', '_')\n",
    "            video_name = video_name.replace('\\\"', '_')\n",
    "            video_name = video_name.replace('\\'', '_')\n",
    "            video_name = video_name.replace('/', '_')\n",
    "            video_name = video_name.replace(',', '_')\n",
    "            # download the video\n",
    "            video.download(path, filename=video_name+'.mp4')\n",
    "            return os.path.join(path, video_name+'.mp4')\n",
    "        except AgeRestrictedError:\n",
    "            print(f\"{bcolors.WARNING}Skipping age-restricted video: {link}\")\n",
    "            return None\n",
    "        except IncompleteRead:\n",
    "            print('Incomplete read, retrying download...')\n",
    "        except VideoUnavailable:\n",
    "            print(f\"Video {link} is unavailable\")\n",
    "            return None\n",
    "    print('Failed to download video after multiple attempts')\n",
    "    return None"
   ]
  },
  {
   "cell_type": "code",
   "execution_count": null,
   "metadata": {},
   "outputs": [],
   "source": [
    "link = 'https://www.youtube.com/watch?v=RXiS2AsXjpg'\n",
    "path = '/home/dev/face_retrieval/videos'\n",
    "download_video_from_youtube(link, path, retries=3)"
   ]
  },
  {
   "cell_type": "code",
   "execution_count": null,
   "metadata": {},
   "outputs": [],
   "source": []
  }
 ],
 "metadata": {
  "kernelspec": {
   "display_name": "base",
   "language": "python",
   "name": "python3"
  },
  "language_info": {
   "codemirror_mode": {
    "name": "ipython",
    "version": 3
   },
   "file_extension": ".py",
   "mimetype": "text/x-python",
   "name": "python",
   "nbconvert_exporter": "python",
   "pygments_lexer": "ipython3",
   "version": "3.9.7"
  }
 },
 "nbformat": 4,
 "nbformat_minor": 2
}
